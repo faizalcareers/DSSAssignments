{
 "cells": [
  {
   "cell_type": "code",
   "execution_count": 2,
   "id": "eb3d822c",
   "metadata": {},
   "outputs": [
    {
     "name": "stdout",
     "output_type": "stream",
     "text": [
      "1. The richest person in the list is é´?¨ ç?¥?®? with a net worth of $196.0 billion.\n",
      "2. There are 10 people without an email.\n",
      "3. There are 13 people without a phone number.\n"
     ]
    }
   ],
   "source": [
    "import pandas as pd\n",
    "\n",
    "# Load the CSV file\n",
    "file_path = 'richpersons.csv'  # Replace with your actual file path\n",
    "data = pd.read_csv(file_path, encoding='ISO-8859-1')\n",
    "\n",
    "# Convert 'Net Worth' column to numeric (remove $ and billion, handle missing data)\n",
    "data['Net Worth'] = (\n",
    "    data['Net Worth']\n",
    "    .str.replace('$', '', regex=True)\n",
    "    .str.replace('billion', '', regex=True)\n",
    "    .astype(float)\n",
    ")\n",
    "\n",
    "# Count people without an email\n",
    "missing_email_count = data['Email'].isna().sum()\n",
    "\n",
    "# Count people without a phone number\n",
    "missing_phone_count = data['Phone Number'].isna().sum()\n",
    "\n",
    "# Find the richest person\n",
    "richest_person_row = data.loc[data['Net Worth'].idxmax()]\n",
    "richest_person = richest_person_row['Name']\n",
    "richest_net_worth = richest_person_row['Net Worth']\n",
    "\n",
    "# Print the answers\n",
    "print(f\"1. The richest person in the list is {richest_person} with a net worth of ${richest_net_worth} billion.\")\n",
    "print(f\"2. There are {missing_email_count} people without an email.\")\n",
    "print(f\"3. There are {missing_phone_count} people without a phone number.\")\n"
   ]
  },
  {
   "cell_type": "code",
   "execution_count": null,
   "id": "50357b4c",
   "metadata": {},
   "outputs": [],
   "source": []
  }
 ],
 "metadata": {
  "kernelspec": {
   "display_name": "Python 3 (ipykernel)",
   "language": "python",
   "name": "python3"
  },
  "language_info": {
   "codemirror_mode": {
    "name": "ipython",
    "version": 3
   },
   "file_extension": ".py",
   "mimetype": "text/x-python",
   "name": "python",
   "nbconvert_exporter": "python",
   "pygments_lexer": "ipython3",
   "version": "3.10.9"
  }
 },
 "nbformat": 4,
 "nbformat_minor": 5
}
